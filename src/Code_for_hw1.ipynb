{
  "nbformat": 4,
  "nbformat_minor": 0,
  "metadata": {
    "colab": {
      "provenance": []
    },
    "kernelspec": {
      "name": "python3",
      "display_name": "Python 3"
    },
    "language_info": {
      "name": "python"
    }
  },
  "cells": [
    {
      "cell_type": "code",
      "execution_count": 13,
      "metadata": {
        "id": "B3QXSC5bsPph"
      },
      "outputs": [],
      "source": [
        "def info(file):\n",
        "  n = 0\n",
        "  len = 0\n",
        "  max_len = 0\n",
        "  n_50 = 0\n",
        "  lens = []\n",
        "  for line in file:\n",
        "    if line[0] == '>':\n",
        "      n += 1\n",
        "      l = int(line.split('_')[1][3:])\n",
        "      len += l\n",
        "      max_len = max(max_len, l)\n",
        "      lens.append(l)\n",
        "  sum = 0\n",
        "  lens = sorted(lens, reverse=True)\n",
        "  i = 0\n",
        "  while (sum < len / 2):\n",
        "      sum += lens[i]\n",
        "      i += 1\n",
        "  n_50 = lens[i-1]\n",
        "\n",
        "  return [n, len, max_len, n_50]\n"
      ]
    },
    {
      "cell_type": "code",
      "source": [
        "def n(file, max_len):\n",
        "  n = 0\n",
        "  len = 0\n",
        "  flag = 0\n",
        "  flagn = 0\n",
        "  for line in file:\n",
        "      if line[0] == '>':\n",
        "          flag = 0\n",
        "          cnt = 0\n",
        "          if int(line.split('_')[1][3:]) == max_len:\n",
        "              flag = 1\n",
        "      if (flag == 1 and line[0] != '>'):\n",
        "          i = 0\n",
        "          while (line[i] != '\\n'):\n",
        "              if line[i] == 'N':\n",
        "                  len += 1\n",
        "                  if flagn == 0:\n",
        "                      n += 1\n",
        "                      flagn = 1\n",
        "              else:\n",
        "                  flagn = 0\n",
        "              i += 1\n",
        "  return [n, len]"
      ],
      "metadata": {
        "id": "D4-aD1w_-d4y"
      },
      "execution_count": 14,
      "outputs": []
    },
    {
      "cell_type": "code",
      "source": [
        "def gaps(file):\n",
        "  lens = []\n",
        "  len = 0\n",
        "  for line in file:\n",
        "    if line[0] == '>':\n",
        "        lens.append(len)\n",
        "        len = 0\n",
        "    else:\n",
        "        i = 0\n",
        "        while line[i] != '\\n':\n",
        "          len += 1\n",
        "          i += 1\n",
        "  return lens"
      ],
      "metadata": {
        "id": "lmXT8d3_1uaA"
      },
      "execution_count": 15,
      "outputs": []
    },
    {
      "cell_type": "code",
      "source": [
        "def ngaps(file, index):\n",
        "  n = 0\n",
        "  len = 0\n",
        "  flag = 0\n",
        "  flagn = 0\n",
        "  cnt = 0\n",
        "  s = ''\n",
        "  for line in file:\n",
        "      if line[0] == '>':\n",
        "          flag = 0\n",
        "          if index == cnt:\n",
        "              flag = 1\n",
        "          cnt += 1\n",
        "      if (flag == 1 and line[0] != '>'):\n",
        "          i = 0\n",
        "          while (line[i] != '\\n'):\n",
        "              s += line[i]\n",
        "              if line[i] == 'N':\n",
        "                  len += 1\n",
        "                  if flagn == 0:\n",
        "                      n += 1\n",
        "                      flagn = 1\n",
        "              else:\n",
        "                  flagn = 0\n",
        "              i += 1\n",
        "          s += '\\n'\n",
        "  return [n, len, s]"
      ],
      "metadata": {
        "id": "BhqFGe_s6d27"
      },
      "execution_count": 22,
      "outputs": []
    },
    {
      "cell_type": "code",
      "source": [
        "x = info(open('Poil_contig.fa'))\n",
        "print('Общее кол-во контигов:', x[0], '\\n',\n",
        "      'Их общая длина:', x[1], '\\n',\n",
        "      'Длина самого длинного контигов:', x[2], '\\n',\n",
        "      'N50:', x[3])"
      ],
      "metadata": {
        "colab": {
          "base_uri": "https://localhost:8080/"
        },
        "id": "xvAFAkX64b0D",
        "outputId": "bf616a16-5343-48cf-ef7b-f7962746d836"
      },
      "execution_count": 17,
      "outputs": [
        {
          "output_type": "stream",
          "name": "stdout",
          "text": [
            "Общее кол-во контигов: 615 \n",
            " Их общая длина: 3925685 \n",
            " Длина самого длинного контигов: 179304 \n",
            " N50: 55043\n"
          ]
        }
      ]
    },
    {
      "cell_type": "code",
      "source": [
        "y = info(open('Poil_scaffold.fa'))\n",
        "print('Общее кол-во скаффолдов:', y[0], '\\n',\n",
        "      'Их общая длина:', y[1], '\\n',\n",
        "      'Длина самого длинного скаффолда:', y[2], '\\n',\n",
        "      'N50:', y[3])"
      ],
      "metadata": {
        "colab": {
          "base_uri": "https://localhost:8080/"
        },
        "id": "ab6QYOXR7Lg4",
        "outputId": "1ee3ec08-65e2-4829-fffe-ce359ecce498"
      },
      "execution_count": 18,
      "outputs": [
        {
          "output_type": "stream",
          "name": "stdout",
          "text": [
            "Общее кол-во скаффолдов: 68 \n",
            " Их общая длина: 3873780 \n",
            " Длина самого длинного скаффолда: 3831846 \n",
            " N50: 3831846\n"
          ]
        }
      ]
    },
    {
      "cell_type": "code",
      "source": [
        "ygap = n(open('Poil_scaffold.fa'), y[2])\n",
        "print('Количество последовательностей N:', ygap[0], '\\n', \n",
        "      'Общее количество N:', ygap[1])"
      ],
      "metadata": {
        "colab": {
          "base_uri": "https://localhost:8080/"
        },
        "id": "EXYOGTc3CGag",
        "outputId": "f9f98bc0-69b9-4f2e-df14-d7033e576318"
      },
      "execution_count": 19,
      "outputs": [
        {
          "output_type": "stream",
          "name": "stdout",
          "text": [
            "Количество последовательностей N: 62 \n",
            " Общее количество N: 6710\n"
          ]
        }
      ]
    },
    {
      "cell_type": "code",
      "source": [
        "z = gaps(open('Poil_gapClosed.fa'))\n",
        "max_ = 0\n",
        "index= 0\n",
        "for i in range(len(z)):\n",
        "    if z[i] > max_:\n",
        "      max_ = z[i]\n",
        "      index = i\n",
        "index - 1"
      ],
      "metadata": {
        "colab": {
          "base_uri": "https://localhost:8080/"
        },
        "id": "l7U7zPa_7WI2",
        "outputId": "c8c1caba-7c79-4118-cd1b-b63bf382151b"
      },
      "execution_count": 20,
      "outputs": [
        {
          "output_type": "execute_result",
          "data": {
            "text/plain": [
              "0"
            ]
          },
          "metadata": {},
          "execution_count": 20
        }
      ]
    },
    {
      "cell_type": "code",
      "source": [
        "zgap = ngaps(open('Poil_gapClosed.fa'), index - 1)\n",
        "print('Количество последовательностей N:', zgap[0], '\\n', \n",
        "      'Общее количество N:', zgap[1])"
      ],
      "metadata": {
        "colab": {
          "base_uri": "https://localhost:8080/"
        },
        "id": "3fxy7nIe0wT3",
        "outputId": "04c78baf-a142-4e94-e142-ac334e1e7f9f"
      },
      "execution_count": 34,
      "outputs": [
        {
          "output_type": "stream",
          "name": "stdout",
          "text": [
            "Количество последовательностей N: 8 \n",
            " Общее количество N: 1892\n"
          ]
        }
      ]
    },
    {
      "cell_type": "code",
      "source": [
        "my_file = open(\"longest.fa\", \"w\")\n",
        "my_file.write(zgap[2])"
      ],
      "metadata": {
        "colab": {
          "base_uri": "https://localhost:8080/"
        },
        "id": "wpVJLSrBsaOx",
        "outputId": "ca0757f5-d1fe-4d64-de67-b044f003c6c3"
      },
      "execution_count": 41,
      "outputs": [
        {
          "output_type": "execute_result",
          "data": {
            "text/plain": [
              "3921553"
            ]
          },
          "metadata": {},
          "execution_count": 41
        }
      ]
    }
  ]
}